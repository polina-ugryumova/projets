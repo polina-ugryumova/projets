{
  "nbformat": 4,
  "nbformat_minor": 0,
  "metadata": {
    "colab": {
      "provenance": [],
      "include_colab_link": true
    },
    "kernelspec": {
      "name": "python3",
      "display_name": "Python 3"
    },
    "language_info": {
      "name": "python"
    }
  },
  "cells": [
    {
      "cell_type": "markdown",
      "metadata": {
        "id": "view-in-github",
        "colab_type": "text"
      },
      "source": [
        "<a href=\"https://colab.research.google.com/github/polina-ugryumova/projets/blob/main/tourism.ipynb\" target=\"_parent\"><img src=\"https://colab.research.google.com/assets/colab-badge.svg\" alt=\"Open In Colab\"/></a>"
      ]
    },
    {
      "cell_type": "markdown",
      "source": [
        "### Анализ динамики международного туризма (2023-2024)"
      ],
      "metadata": {
        "id": "mFwUKrUBIx4T"
      }
    },
    {
      "cell_type": "markdown",
      "source": [
        "Мой проект посвящен анализу восстановления международного туризма после пандемии COVID-19. Я исследую изменения туристических потоков в 2023-2024 годах по сравнению с доковидным периодом, определяю самые популярные направления и оцениваю скорость восстановления индустрии. Это поможет понять, какие страны быстрее адаптировались к новым условиям.\n"
      ],
      "metadata": {
        "id": "UrUcJSBGUWr_"
      }
    },
    {
      "cell_type": "markdown",
      "source": [
        "# Введение\n",
        "\n",
        "Проект направлен на анализ изменений в международном туризме после пандемии COVID-19. Я исследую:\n",
        "\n",
        "* Какие страны стали самыми популярными в 2023-2024 годах\n",
        "\n",
        "* Как изменились туристические потоки по сравнению с доковидным периодом\n",
        "\n",
        "* Сезонность туризма в разных регионах мира\n",
        "\n",
        "* Скорость восстановления туристической индустрии"
      ],
      "metadata": {
        "id": "qYJdM2peIlkj"
      }
    },
    {
      "cell_type": "markdown",
      "source": [
        "Я начинаю с подключения всех необходимых инструментов: Pandas для работы с таблицами, NumPy для вычислений и Matplotlib/Seaborn для визуализации. Загружаю данные через Google Colab — это удобно для работы в облачной среде. Первый взгляд на данные (df.head()) показывает, что в наборе есть информация по странам, прогнозам на 2024 год и фактическим данным за 2022-2023 годы.\n"
      ],
      "metadata": {
        "id": "SoBoQTpmUf-I"
      }
    },
    {
      "cell_type": "code",
      "source": [
        "\n",
        "import pandas as pd\n",
        "import numpy as np\n",
        "import seaborn as sns\n",
        "import matplotlib.pyplot as plt\n",
        "\n",
        "from google.colab import files\n",
        "uploaded = files.upload()\n",
        "\n",
        "filename = list(uploaded.keys())[0]\n",
        "df = pd.read_csv(filename)\n",
        "print(f\"Загружен файл: {filename}\")\n",
        "df.head()"
      ],
      "metadata": {
        "colab": {
          "base_uri": "https://localhost:8080/",
          "height": 318
        },
        "id": "NXv8eI2qMuIK",
        "outputId": "15e899b7-5d54-495e-fcd5-2c97e7cc32fc"
      },
      "execution_count": null,
      "outputs": [
        {
          "output_type": "display_data",
          "data": {
            "text/plain": [
              "<IPython.core.display.HTML object>"
            ],
            "text/html": [
              "\n",
              "     <input type=\"file\" id=\"files-99609e31-3ea0-4bdb-8efd-39cde23b632f\" name=\"files[]\" multiple disabled\n",
              "        style=\"border:none\" />\n",
              "     <output id=\"result-99609e31-3ea0-4bdb-8efd-39cde23b632f\">\n",
              "      Upload widget is only available when the cell has been executed in the\n",
              "      current browser session. Please rerun this cell to enable.\n",
              "      </output>\n",
              "      <script>// Copyright 2017 Google LLC\n",
              "//\n",
              "// Licensed under the Apache License, Version 2.0 (the \"License\");\n",
              "// you may not use this file except in compliance with the License.\n",
              "// You may obtain a copy of the License at\n",
              "//\n",
              "//      http://www.apache.org/licenses/LICENSE-2.0\n",
              "//\n",
              "// Unless required by applicable law or agreed to in writing, software\n",
              "// distributed under the License is distributed on an \"AS IS\" BASIS,\n",
              "// WITHOUT WARRANTIES OR CONDITIONS OF ANY KIND, either express or implied.\n",
              "// See the License for the specific language governing permissions and\n",
              "// limitations under the License.\n",
              "\n",
              "/**\n",
              " * @fileoverview Helpers for google.colab Python module.\n",
              " */\n",
              "(function(scope) {\n",
              "function span(text, styleAttributes = {}) {\n",
              "  const element = document.createElement('span');\n",
              "  element.textContent = text;\n",
              "  for (const key of Object.keys(styleAttributes)) {\n",
              "    element.style[key] = styleAttributes[key];\n",
              "  }\n",
              "  return element;\n",
              "}\n",
              "\n",
              "// Max number of bytes which will be uploaded at a time.\n",
              "const MAX_PAYLOAD_SIZE = 100 * 1024;\n",
              "\n",
              "function _uploadFiles(inputId, outputId) {\n",
              "  const steps = uploadFilesStep(inputId, outputId);\n",
              "  const outputElement = document.getElementById(outputId);\n",
              "  // Cache steps on the outputElement to make it available for the next call\n",
              "  // to uploadFilesContinue from Python.\n",
              "  outputElement.steps = steps;\n",
              "\n",
              "  return _uploadFilesContinue(outputId);\n",
              "}\n",
              "\n",
              "// This is roughly an async generator (not supported in the browser yet),\n",
              "// where there are multiple asynchronous steps and the Python side is going\n",
              "// to poll for completion of each step.\n",
              "// This uses a Promise to block the python side on completion of each step,\n",
              "// then passes the result of the previous step as the input to the next step.\n",
              "function _uploadFilesContinue(outputId) {\n",
              "  const outputElement = document.getElementById(outputId);\n",
              "  const steps = outputElement.steps;\n",
              "\n",
              "  const next = steps.next(outputElement.lastPromiseValue);\n",
              "  return Promise.resolve(next.value.promise).then((value) => {\n",
              "    // Cache the last promise value to make it available to the next\n",
              "    // step of the generator.\n",
              "    outputElement.lastPromiseValue = value;\n",
              "    return next.value.response;\n",
              "  });\n",
              "}\n",
              "\n",
              "/**\n",
              " * Generator function which is called between each async step of the upload\n",
              " * process.\n",
              " * @param {string} inputId Element ID of the input file picker element.\n",
              " * @param {string} outputId Element ID of the output display.\n",
              " * @return {!Iterable<!Object>} Iterable of next steps.\n",
              " */\n",
              "function* uploadFilesStep(inputId, outputId) {\n",
              "  const inputElement = document.getElementById(inputId);\n",
              "  inputElement.disabled = false;\n",
              "\n",
              "  const outputElement = document.getElementById(outputId);\n",
              "  outputElement.innerHTML = '';\n",
              "\n",
              "  const pickedPromise = new Promise((resolve) => {\n",
              "    inputElement.addEventListener('change', (e) => {\n",
              "      resolve(e.target.files);\n",
              "    });\n",
              "  });\n",
              "\n",
              "  const cancel = document.createElement('button');\n",
              "  inputElement.parentElement.appendChild(cancel);\n",
              "  cancel.textContent = 'Cancel upload';\n",
              "  const cancelPromise = new Promise((resolve) => {\n",
              "    cancel.onclick = () => {\n",
              "      resolve(null);\n",
              "    };\n",
              "  });\n",
              "\n",
              "  // Wait for the user to pick the files.\n",
              "  const files = yield {\n",
              "    promise: Promise.race([pickedPromise, cancelPromise]),\n",
              "    response: {\n",
              "      action: 'starting',\n",
              "    }\n",
              "  };\n",
              "\n",
              "  cancel.remove();\n",
              "\n",
              "  // Disable the input element since further picks are not allowed.\n",
              "  inputElement.disabled = true;\n",
              "\n",
              "  if (!files) {\n",
              "    return {\n",
              "      response: {\n",
              "        action: 'complete',\n",
              "      }\n",
              "    };\n",
              "  }\n",
              "\n",
              "  for (const file of files) {\n",
              "    const li = document.createElement('li');\n",
              "    li.append(span(file.name, {fontWeight: 'bold'}));\n",
              "    li.append(span(\n",
              "        `(${file.type || 'n/a'}) - ${file.size} bytes, ` +\n",
              "        `last modified: ${\n",
              "            file.lastModifiedDate ? file.lastModifiedDate.toLocaleDateString() :\n",
              "                                    'n/a'} - `));\n",
              "    const percent = span('0% done');\n",
              "    li.appendChild(percent);\n",
              "\n",
              "    outputElement.appendChild(li);\n",
              "\n",
              "    const fileDataPromise = new Promise((resolve) => {\n",
              "      const reader = new FileReader();\n",
              "      reader.onload = (e) => {\n",
              "        resolve(e.target.result);\n",
              "      };\n",
              "      reader.readAsArrayBuffer(file);\n",
              "    });\n",
              "    // Wait for the data to be ready.\n",
              "    let fileData = yield {\n",
              "      promise: fileDataPromise,\n",
              "      response: {\n",
              "        action: 'continue',\n",
              "      }\n",
              "    };\n",
              "\n",
              "    // Use a chunked sending to avoid message size limits. See b/62115660.\n",
              "    let position = 0;\n",
              "    do {\n",
              "      const length = Math.min(fileData.byteLength - position, MAX_PAYLOAD_SIZE);\n",
              "      const chunk = new Uint8Array(fileData, position, length);\n",
              "      position += length;\n",
              "\n",
              "      const base64 = btoa(String.fromCharCode.apply(null, chunk));\n",
              "      yield {\n",
              "        response: {\n",
              "          action: 'append',\n",
              "          file: file.name,\n",
              "          data: base64,\n",
              "        },\n",
              "      };\n",
              "\n",
              "      let percentDone = fileData.byteLength === 0 ?\n",
              "          100 :\n",
              "          Math.round((position / fileData.byteLength) * 100);\n",
              "      percent.textContent = `${percentDone}% done`;\n",
              "\n",
              "    } while (position < fileData.byteLength);\n",
              "  }\n",
              "\n",
              "  // All done.\n",
              "  yield {\n",
              "    response: {\n",
              "      action: 'complete',\n",
              "    }\n",
              "  };\n",
              "}\n",
              "\n",
              "scope.google = scope.google || {};\n",
              "scope.google.colab = scope.google.colab || {};\n",
              "scope.google.colab._files = {\n",
              "  _uploadFiles,\n",
              "  _uploadFilesContinue,\n",
              "};\n",
              "})(self);\n",
              "</script> "
            ]
          },
          "metadata": {}
        },
        {
          "output_type": "stream",
          "name": "stdout",
          "text": [
            "Saving most-visited-countries-2024.csv to most-visited-countries-2024.csv\n",
            "Загружен файл: most-visited-countries-2024.csv\n"
          ]
        },
        {
          "output_type": "execute_result",
          "data": {
            "text/plain": [
              "         country  MostVisited_NumOfArrivalsPredictive_Millions_2024  \\\n",
              "0          India                                               17.9   \n",
              "1          China                                               65.7   \n",
              "2  United States                                               79.3   \n",
              "3      Indonesia                                               15.5   \n",
              "4       Pakistan                                                NaN   \n",
              "\n",
              "   MostVisited_NumOfArrivals_Millions_2023  \\\n",
              "0                                      NaN   \n",
              "1                                      NaN   \n",
              "2                                    66.48   \n",
              "3                                      NaN   \n",
              "4                                      NaN   \n",
              "\n",
              "   MostVisited_NumOfArrivals_Millions_2022  \\\n",
              "0                                      NaN   \n",
              "1                                      NaN   \n",
              "2                                    50.87   \n",
              "3                                      NaN   \n",
              "4                                      NaN   \n",
              "\n",
              "   MostVisited_NumOfArrivals_WorldBank  MostVisited_DataYear_WorldBank  \n",
              "0                           17914000.0                          2019.0  \n",
              "1                           30402000.0                          2020.0  \n",
              "2                           45037000.0                          2020.0  \n",
              "3                            4053000.0                          2020.0  \n",
              "4                             966000.0                          2012.0  "
            ],
            "text/html": [
              "\n",
              "  <div id=\"df-382b5d52-ada6-43e7-ae0c-5e149c2679b6\" class=\"colab-df-container\">\n",
              "    <div>\n",
              "<style scoped>\n",
              "    .dataframe tbody tr th:only-of-type {\n",
              "        vertical-align: middle;\n",
              "    }\n",
              "\n",
              "    .dataframe tbody tr th {\n",
              "        vertical-align: top;\n",
              "    }\n",
              "\n",
              "    .dataframe thead th {\n",
              "        text-align: right;\n",
              "    }\n",
              "</style>\n",
              "<table border=\"1\" class=\"dataframe\">\n",
              "  <thead>\n",
              "    <tr style=\"text-align: right;\">\n",
              "      <th></th>\n",
              "      <th>country</th>\n",
              "      <th>MostVisited_NumOfArrivalsPredictive_Millions_2024</th>\n",
              "      <th>MostVisited_NumOfArrivals_Millions_2023</th>\n",
              "      <th>MostVisited_NumOfArrivals_Millions_2022</th>\n",
              "      <th>MostVisited_NumOfArrivals_WorldBank</th>\n",
              "      <th>MostVisited_DataYear_WorldBank</th>\n",
              "    </tr>\n",
              "  </thead>\n",
              "  <tbody>\n",
              "    <tr>\n",
              "      <th>0</th>\n",
              "      <td>India</td>\n",
              "      <td>17.9</td>\n",
              "      <td>NaN</td>\n",
              "      <td>NaN</td>\n",
              "      <td>17914000.0</td>\n",
              "      <td>2019.0</td>\n",
              "    </tr>\n",
              "    <tr>\n",
              "      <th>1</th>\n",
              "      <td>China</td>\n",
              "      <td>65.7</td>\n",
              "      <td>NaN</td>\n",
              "      <td>NaN</td>\n",
              "      <td>30402000.0</td>\n",
              "      <td>2020.0</td>\n",
              "    </tr>\n",
              "    <tr>\n",
              "      <th>2</th>\n",
              "      <td>United States</td>\n",
              "      <td>79.3</td>\n",
              "      <td>66.48</td>\n",
              "      <td>50.87</td>\n",
              "      <td>45037000.0</td>\n",
              "      <td>2020.0</td>\n",
              "    </tr>\n",
              "    <tr>\n",
              "      <th>3</th>\n",
              "      <td>Indonesia</td>\n",
              "      <td>15.5</td>\n",
              "      <td>NaN</td>\n",
              "      <td>NaN</td>\n",
              "      <td>4053000.0</td>\n",
              "      <td>2020.0</td>\n",
              "    </tr>\n",
              "    <tr>\n",
              "      <th>4</th>\n",
              "      <td>Pakistan</td>\n",
              "      <td>NaN</td>\n",
              "      <td>NaN</td>\n",
              "      <td>NaN</td>\n",
              "      <td>966000.0</td>\n",
              "      <td>2012.0</td>\n",
              "    </tr>\n",
              "  </tbody>\n",
              "</table>\n",
              "</div>\n",
              "    <div class=\"colab-df-buttons\">\n",
              "\n",
              "  <div class=\"colab-df-container\">\n",
              "    <button class=\"colab-df-convert\" onclick=\"convertToInteractive('df-382b5d52-ada6-43e7-ae0c-5e149c2679b6')\"\n",
              "            title=\"Convert this dataframe to an interactive table.\"\n",
              "            style=\"display:none;\">\n",
              "\n",
              "  <svg xmlns=\"http://www.w3.org/2000/svg\" height=\"24px\" viewBox=\"0 -960 960 960\">\n",
              "    <path d=\"M120-120v-720h720v720H120Zm60-500h600v-160H180v160Zm220 220h160v-160H400v160Zm0 220h160v-160H400v160ZM180-400h160v-160H180v160Zm440 0h160v-160H620v160ZM180-180h160v-160H180v160Zm440 0h160v-160H620v160Z\"/>\n",
              "  </svg>\n",
              "    </button>\n",
              "\n",
              "  <style>\n",
              "    .colab-df-container {\n",
              "      display:flex;\n",
              "      gap: 12px;\n",
              "    }\n",
              "\n",
              "    .colab-df-convert {\n",
              "      background-color: #E8F0FE;\n",
              "      border: none;\n",
              "      border-radius: 50%;\n",
              "      cursor: pointer;\n",
              "      display: none;\n",
              "      fill: #1967D2;\n",
              "      height: 32px;\n",
              "      padding: 0 0 0 0;\n",
              "      width: 32px;\n",
              "    }\n",
              "\n",
              "    .colab-df-convert:hover {\n",
              "      background-color: #E2EBFA;\n",
              "      box-shadow: 0px 1px 2px rgba(60, 64, 67, 0.3), 0px 1px 3px 1px rgba(60, 64, 67, 0.15);\n",
              "      fill: #174EA6;\n",
              "    }\n",
              "\n",
              "    .colab-df-buttons div {\n",
              "      margin-bottom: 4px;\n",
              "    }\n",
              "\n",
              "    [theme=dark] .colab-df-convert {\n",
              "      background-color: #3B4455;\n",
              "      fill: #D2E3FC;\n",
              "    }\n",
              "\n",
              "    [theme=dark] .colab-df-convert:hover {\n",
              "      background-color: #434B5C;\n",
              "      box-shadow: 0px 1px 3px 1px rgba(0, 0, 0, 0.15);\n",
              "      filter: drop-shadow(0px 1px 2px rgba(0, 0, 0, 0.3));\n",
              "      fill: #FFFFFF;\n",
              "    }\n",
              "  </style>\n",
              "\n",
              "    <script>\n",
              "      const buttonEl =\n",
              "        document.querySelector('#df-382b5d52-ada6-43e7-ae0c-5e149c2679b6 button.colab-df-convert');\n",
              "      buttonEl.style.display =\n",
              "        google.colab.kernel.accessAllowed ? 'block' : 'none';\n",
              "\n",
              "      async function convertToInteractive(key) {\n",
              "        const element = document.querySelector('#df-382b5d52-ada6-43e7-ae0c-5e149c2679b6');\n",
              "        const dataTable =\n",
              "          await google.colab.kernel.invokeFunction('convertToInteractive',\n",
              "                                                    [key], {});\n",
              "        if (!dataTable) return;\n",
              "\n",
              "        const docLinkHtml = 'Like what you see? Visit the ' +\n",
              "          '<a target=\"_blank\" href=https://colab.research.google.com/notebooks/data_table.ipynb>data table notebook</a>'\n",
              "          + ' to learn more about interactive tables.';\n",
              "        element.innerHTML = '';\n",
              "        dataTable['output_type'] = 'display_data';\n",
              "        await google.colab.output.renderOutput(dataTable, element);\n",
              "        const docLink = document.createElement('div');\n",
              "        docLink.innerHTML = docLinkHtml;\n",
              "        element.appendChild(docLink);\n",
              "      }\n",
              "    </script>\n",
              "  </div>\n",
              "\n",
              "\n",
              "    <div id=\"df-74cdaa64-829b-4edb-84a9-76251039346e\">\n",
              "      <button class=\"colab-df-quickchart\" onclick=\"quickchart('df-74cdaa64-829b-4edb-84a9-76251039346e')\"\n",
              "                title=\"Suggest charts\"\n",
              "                style=\"display:none;\">\n",
              "\n",
              "<svg xmlns=\"http://www.w3.org/2000/svg\" height=\"24px\"viewBox=\"0 0 24 24\"\n",
              "     width=\"24px\">\n",
              "    <g>\n",
              "        <path d=\"M19 3H5c-1.1 0-2 .9-2 2v14c0 1.1.9 2 2 2h14c1.1 0 2-.9 2-2V5c0-1.1-.9-2-2-2zM9 17H7v-7h2v7zm4 0h-2V7h2v10zm4 0h-2v-4h2v4z\"/>\n",
              "    </g>\n",
              "</svg>\n",
              "      </button>\n",
              "\n",
              "<style>\n",
              "  .colab-df-quickchart {\n",
              "      --bg-color: #E8F0FE;\n",
              "      --fill-color: #1967D2;\n",
              "      --hover-bg-color: #E2EBFA;\n",
              "      --hover-fill-color: #174EA6;\n",
              "      --disabled-fill-color: #AAA;\n",
              "      --disabled-bg-color: #DDD;\n",
              "  }\n",
              "\n",
              "  [theme=dark] .colab-df-quickchart {\n",
              "      --bg-color: #3B4455;\n",
              "      --fill-color: #D2E3FC;\n",
              "      --hover-bg-color: #434B5C;\n",
              "      --hover-fill-color: #FFFFFF;\n",
              "      --disabled-bg-color: #3B4455;\n",
              "      --disabled-fill-color: #666;\n",
              "  }\n",
              "\n",
              "  .colab-df-quickchart {\n",
              "    background-color: var(--bg-color);\n",
              "    border: none;\n",
              "    border-radius: 50%;\n",
              "    cursor: pointer;\n",
              "    display: none;\n",
              "    fill: var(--fill-color);\n",
              "    height: 32px;\n",
              "    padding: 0;\n",
              "    width: 32px;\n",
              "  }\n",
              "\n",
              "  .colab-df-quickchart:hover {\n",
              "    background-color: var(--hover-bg-color);\n",
              "    box-shadow: 0 1px 2px rgba(60, 64, 67, 0.3), 0 1px 3px 1px rgba(60, 64, 67, 0.15);\n",
              "    fill: var(--button-hover-fill-color);\n",
              "  }\n",
              "\n",
              "  .colab-df-quickchart-complete:disabled,\n",
              "  .colab-df-quickchart-complete:disabled:hover {\n",
              "    background-color: var(--disabled-bg-color);\n",
              "    fill: var(--disabled-fill-color);\n",
              "    box-shadow: none;\n",
              "  }\n",
              "\n",
              "  .colab-df-spinner {\n",
              "    border: 2px solid var(--fill-color);\n",
              "    border-color: transparent;\n",
              "    border-bottom-color: var(--fill-color);\n",
              "    animation:\n",
              "      spin 1s steps(1) infinite;\n",
              "  }\n",
              "\n",
              "  @keyframes spin {\n",
              "    0% {\n",
              "      border-color: transparent;\n",
              "      border-bottom-color: var(--fill-color);\n",
              "      border-left-color: var(--fill-color);\n",
              "    }\n",
              "    20% {\n",
              "      border-color: transparent;\n",
              "      border-left-color: var(--fill-color);\n",
              "      border-top-color: var(--fill-color);\n",
              "    }\n",
              "    30% {\n",
              "      border-color: transparent;\n",
              "      border-left-color: var(--fill-color);\n",
              "      border-top-color: var(--fill-color);\n",
              "      border-right-color: var(--fill-color);\n",
              "    }\n",
              "    40% {\n",
              "      border-color: transparent;\n",
              "      border-right-color: var(--fill-color);\n",
              "      border-top-color: var(--fill-color);\n",
              "    }\n",
              "    60% {\n",
              "      border-color: transparent;\n",
              "      border-right-color: var(--fill-color);\n",
              "    }\n",
              "    80% {\n",
              "      border-color: transparent;\n",
              "      border-right-color: var(--fill-color);\n",
              "      border-bottom-color: var(--fill-color);\n",
              "    }\n",
              "    90% {\n",
              "      border-color: transparent;\n",
              "      border-bottom-color: var(--fill-color);\n",
              "    }\n",
              "  }\n",
              "</style>\n",
              "\n",
              "      <script>\n",
              "        async function quickchart(key) {\n",
              "          const quickchartButtonEl =\n",
              "            document.querySelector('#' + key + ' button');\n",
              "          quickchartButtonEl.disabled = true;  // To prevent multiple clicks.\n",
              "          quickchartButtonEl.classList.add('colab-df-spinner');\n",
              "          try {\n",
              "            const charts = await google.colab.kernel.invokeFunction(\n",
              "                'suggestCharts', [key], {});\n",
              "          } catch (error) {\n",
              "            console.error('Error during call to suggestCharts:', error);\n",
              "          }\n",
              "          quickchartButtonEl.classList.remove('colab-df-spinner');\n",
              "          quickchartButtonEl.classList.add('colab-df-quickchart-complete');\n",
              "        }\n",
              "        (() => {\n",
              "          let quickchartButtonEl =\n",
              "            document.querySelector('#df-74cdaa64-829b-4edb-84a9-76251039346e button');\n",
              "          quickchartButtonEl.style.display =\n",
              "            google.colab.kernel.accessAllowed ? 'block' : 'none';\n",
              "        })();\n",
              "      </script>\n",
              "    </div>\n",
              "    </div>\n",
              "  </div>\n"
            ],
            "application/vnd.google.colaboratory.intrinsic+json": {
              "type": "dataframe",
              "variable_name": "df",
              "summary": "{\n  \"name\": \"df\",\n  \"rows\": 203,\n  \"fields\": [\n    {\n      \"column\": \"country\",\n      \"properties\": {\n        \"dtype\": \"string\",\n        \"num_unique_values\": 203,\n        \"samples\": [\n          \"Vietnam\",\n          \"Ethiopia\",\n          \"Central African Republic\"\n        ],\n        \"semantic_type\": \"\",\n        \"description\": \"\"\n      }\n    },\n    {\n      \"column\": \"MostVisited_NumOfArrivalsPredictive_Millions_2024\",\n      \"properties\": {\n        \"dtype\": \"number\",\n        \"std\": 20.915373605585554,\n        \"min\": 5.9,\n        \"max\": 89.4,\n        \"num_unique_values\": 47,\n        \"samples\": [\n          9.5,\n          11.8,\n          13.6\n        ],\n        \"semantic_type\": \"\",\n        \"description\": \"\"\n      }\n    },\n    {\n      \"column\": \"MostVisited_NumOfArrivals_Millions_2023\",\n      \"properties\": {\n        \"dtype\": \"number\",\n        \"std\": 20.78653963956182,\n        \"min\": 3.73,\n        \"max\": 100.0,\n        \"num_unique_values\": 47,\n        \"samples\": [\n          20.3,\n          4.67,\n          3.73\n        ],\n        \"semantic_type\": \"\",\n        \"description\": \"\"\n      }\n    },\n    {\n      \"column\": \"MostVisited_NumOfArrivals_Millions_2022\",\n      \"properties\": {\n        \"dtype\": \"number\",\n        \"std\": 20.048266357652185,\n        \"min\": 11.66,\n        \"max\": 79.4,\n        \"num_unique_values\": 20,\n        \"samples\": [\n          50.87,\n          12.65,\n          22.25\n        ],\n        \"semantic_type\": \"\",\n        \"description\": \"\"\n      }\n    },\n    {\n      \"column\": \"MostVisited_NumOfArrivals_WorldBank\",\n      \"properties\": {\n        \"dtype\": \"number\",\n        \"std\": 12994827.612113008,\n        \"min\": 900.0,\n        \"max\": 117109000.0,\n        \"num_unique_values\": 198,\n        \"samples\": [\n          594000.0,\n          87000.0,\n          1550000.0\n        ],\n        \"semantic_type\": \"\",\n        \"description\": \"\"\n      }\n    },\n    {\n      \"column\": \"MostVisited_DataYear_WorldBank\",\n      \"properties\": {\n        \"dtype\": \"number\",\n        \"std\": 2.6915783217976936,\n        \"min\": 1998.0,\n        \"max\": 2020.0,\n        \"num_unique_values\": 12,\n        \"samples\": [\n          2000.0,\n          2008.0,\n          2019.0\n        ],\n        \"semantic_type\": \"\",\n        \"description\": \"\"\n      }\n    }\n  ]\n}"
            }
          },
          "metadata": {},
          "execution_count": 3
        }
      ]
    },
    {
      "cell_type": "markdown",
      "source": [
        "Я начинаю с подключения всех необходимых инструментов: Pandas для работы с таблицами, NumPy для вычислений и Matplotlib/Seaborn для визуализации. Загружаю данные через Google Colab — это удобно для работы в облачной среде. Первый взгляд на данные (df.head()) показывает, что в наборе есть информация по странам, прогнозам на 2024 год и фактическим данным за 2022-2023 годы.\n"
      ],
      "metadata": {
        "id": "WnxmT-DRXQOS"
      }
    },
    {
      "cell_type": "code",
      "source": [
        "import pandas as pd\n",
        "import numpy as np\n",
        "\n",
        "# Переименуем колонки для удобства\n",
        "df = df.rename(columns={\n",
        "    'MostVisited_NumOfArrivalsPredictive_Millions_2024': '2024_predicted',\n",
        "    'MostVisited_NumOfArrivals_Millions_2023': '2023',\n",
        "    'MostVisited_NumOfArrivals_Millions_2022': '2022'\n",
        "})\n",
        "\n",
        "# Преобразуем данные в \"длинный\" формат (более удобный для анализа)\n",
        "clean_df = pd.melt(\n",
        "    df,\n",
        "    id_vars=['country'],\n",
        "    value_vars=['2024_predicted', '2023', '2022'],\n",
        "    var_name='year',\n",
        "    value_name='arrivals_millions'\n",
        ")\n",
        "\n",
        "# Очистка значений\n",
        "clean_df['year'] = clean_df['year'].str.extract('(\\d+)')  # Извлекаем только год\n",
        "clean_df['arrivals_millions'] = pd.to_numeric(clean_df['arrivals_millions'], errors='coerce')\n",
        "\n",
        "# Удаление строк с пропущенными значениями\n",
        "clean_df = clean_df.dropna(subset=['arrivals_millions'])\n",
        "\n",
        "# Объединяем данные\n",
        "final_df = pd.concat([clean_df], ignore_index=True)\n",
        "\n",
        "print(final_df.head())"
      ],
      "metadata": {
        "colab": {
          "base_uri": "https://localhost:8080/"
        },
        "id": "hfzMdBIFOHly",
        "outputId": "b1474e26-ee3d-4b99-afb3-d2b6e89aee56"
      },
      "execution_count": null,
      "outputs": [
        {
          "output_type": "stream",
          "name": "stdout",
          "text": [
            "         country  year  arrivals_millions\n",
            "0          India  2024               17.9\n",
            "1          China  2024               65.7\n",
            "2  United States  2024               79.3\n",
            "3      Indonesia  2024               15.5\n",
            "4         Brazil  2024                5.9\n"
          ]
        }
      ]
    },
    {
      "cell_type": "code",
      "source": [
        "# Переименование колонок с обработкой возможных вариантов названий\n",
        "column_mapping = {\n",
        "    col: '2024_predicted' if 'Predictive' in col else\n",
        "         '2023' if '2023' in col else\n",
        "         '2022' if '2022' in col else\n",
        "         col.lower()\n",
        "    for col in df.columns\n",
        "}\n",
        "df = df.rename(columns=column_mapping)\n",
        "\n",
        "# Преобразование в длинный формат с сохранением исходных данных\n",
        "tourism_melted = pd.melt(\n",
        "    df,\n",
        "    id_vars=['country'],\n",
        "    value_vars=['2024_predicted', '2023', '2022'],\n",
        "    var_name='period',\n",
        "    value_name='arrivals'\n",
        ")\n",
        "\n",
        "# Очистка и преобразование данных\n",
        "tourism_clean = (\n",
        "    tourism_melted\n",
        "    .assign(\n",
        "        year=lambda x: x['period'].str.extract(r'(\\d{4})'),\n",
        "        arrivals=lambda x: pd.to_numeric(x['arrivals'], errors='coerce'),\n",
        "        data_type=lambda x: np.where(\n",
        "            x['period'].str.contains('predicted'),\n",
        "            'prediction',\n",
        "            'actual'\n",
        "        )\n",
        "    )\n",
        "    .dropna(subset=['arrivals'])\n",
        "    .drop(columns=['period'])\n",
        "    .sort_values(['country', 'year'])\n",
        ")\n",
        "\n",
        "print(tourism_clean.head())"
      ],
      "metadata": {
        "colab": {
          "base_uri": "https://localhost:8080/"
        },
        "id": "qQ0c64JAP53H",
        "outputId": "01954d6e-3346-4689-c0c5-83186df59aa7"
      },
      "execution_count": null,
      "outputs": [
        {
          "output_type": "stream",
          "name": "stdout",
          "text": [
            "       country  arrivals  year   data_type\n",
            "339    Albania      9.67  2023      actual\n",
            "136    Albania      9.60  2024  prediction\n",
            "390    Andorra      4.05  2023      actual\n",
            "237  Argentina      7.29  2023      actual\n",
            "34   Argentina      7.40  2024  prediction\n"
          ]
        }
      ]
    },
    {
      "cell_type": "markdown",
      "source": [
        "Считаю процент восстановления туризма по странам. Например, Саудовская Аравия показывает рост на 64.7% в 2023 году по сравнению с 2022-м — это самый высокий показатель среди всех стран. Для наглядности сортирую данные по убыванию роста."
      ],
      "metadata": {
        "id": "NPkDVgPfU9OX"
      }
    },
    {
      "cell_type": "code",
      "source": [
        "# Расчет изменения туристического потока\n",
        "recovery_analysis = (\n",
        "    tourism_clean[tourism_clean['data_type'] == 'actual']\n",
        "    .pivot_table(\n",
        "        index='country',\n",
        "        columns='year',\n",
        "        values='arrivals',\n",
        "        aggfunc='sum'\n",
        "    )\n",
        "    .assign(\n",
        "        recovery_2023=lambda x: (x['2023'] / x['2022'] - 1) * 100,\n",
        "        recovery_2024=lambda x: (x['2024'] / x['2022'] - 1) * 100\n",
        "        if '2024' in x.columns else np.nan\n",
        "    )\n",
        "    .sort_values('recovery_2023', ascending=False)\n",
        ")\n",
        "\n",
        "print(recovery_analysis.head())"
      ],
      "metadata": {
        "colab": {
          "base_uri": "https://localhost:8080/"
        },
        "id": "Weo_P8GiP8c7",
        "outputId": "04452776-15b6-4164-c117-0929a0337841"
      },
      "execution_count": null,
      "outputs": [
        {
          "output_type": "stream",
          "name": "stdout",
          "text": [
            "year            2022   2023  recovery_2023  recovery_2024\n",
            "country                                                  \n",
            "Saudi Arabia   16.65  27.42      64.684685            NaN\n",
            "Canada         12.82  18.34      43.057722            NaN\n",
            "United States  50.87  66.48      30.686063            NaN\n",
            "Egypt          11.66  14.91      27.873070            NaN\n",
            "Netherlands    16.07  20.30      26.322340            NaN\n"
          ]
        }
      ]
    },
    {
      "cell_type": "markdown",
      "source": [
        "Создаю интерактивный график с помощью Plotly Express, который показывает фактические и прогнозируемые данные для каждой страны. Разделяю графики по типу данных (actual/prediction) — это помогает сразу увидеть расхождения между реальными цифрами и прогнозами."
      ],
      "metadata": {
        "id": "G3SEhi1PVCIO"
      }
    },
    {
      "cell_type": "code",
      "source": [
        "import plotly.express as px\n",
        "\n",
        "# Интерактивная визуализация\n",
        "fig = px.bar(\n",
        "    tourism_clean,\n",
        "    x='country',\n",
        "    y='arrivals',\n",
        "    color='year',\n",
        "    facet_col='data_type',\n",
        "    title='International Tourist Arrivals (Actual vs Predicted)',\n",
        "    labels={'arrivals': 'Arrivals (Millions)'},\n",
        "    height=500\n",
        ")\n",
        "fig.update_xaxes(tickangle=45)\n",
        "fig.show()"
      ],
      "metadata": {
        "colab": {
          "base_uri": "https://localhost:8080/",
          "height": 517
        },
        "id": "t_n-v-HWQDqU",
        "outputId": "13278c7d-b975-49b8-eb19-1eb98e582f61"
      },
      "execution_count": null,
      "outputs": [
        {
          "output_type": "display_data",
          "data": {
            "text/html": [
              "<html>\n",
              "<head><meta charset=\"utf-8\" /></head>\n",
              "<body>\n",
              "    <div>            <script src=\"https://cdnjs.cloudflare.com/ajax/libs/mathjax/2.7.5/MathJax.js?config=TeX-AMS-MML_SVG\"></script><script type=\"text/javascript\">if (window.MathJax && window.MathJax.Hub && window.MathJax.Hub.Config) {window.MathJax.Hub.Config({SVG: {font: \"STIX-Web\"}});}</script>                <script type=\"text/javascript\">window.PlotlyConfig = {MathJaxConfig: 'local'};</script>\n",
              "        <script charset=\"utf-8\" src=\"https://cdn.plot.ly/plotly-2.35.2.min.js\"></script>                <div id=\"969afcdf-dd52-4cd2-a7f9-b9209bd0f16f\" class=\"plotly-graph-div\" style=\"height:500px; width:100%;\"></div>            <script type=\"text/javascript\">                                    window.PLOTLYENV=window.PLOTLYENV || {};                                    if (document.getElementById(\"969afcdf-dd52-4cd2-a7f9-b9209bd0f16f\")) {                    Plotly.newPlot(                        \"969afcdf-dd52-4cd2-a7f9-b9209bd0f16f\",                        [{\"alignmentgroup\":\"True\",\"hovertemplate\":\"year=2023\\u003cbr\\u003edata_type=actual\\u003cbr\\u003ecountry=%{x}\\u003cbr\\u003eArrivals (Millions)=%{y}\\u003cextra\\u003e\\u003c\\u002fextra\\u003e\",\"legendgroup\":\"2023\",\"marker\":{\"color\":\"#636efa\",\"pattern\":{\"shape\":\"\"}},\"name\":\"2023\",\"offsetgroup\":\"2023\",\"orientation\":\"v\",\"showlegend\":true,\"textposition\":\"auto\",\"x\":[\"Albania\",\"Andorra\",\"Argentina\",\"Australia\",\"Austria\",\"Bahamas\",\"Brazil\",\"Cambodia\",\"Canada\",\"Chile\",\"Colombia\",\"Cyprus\",\"Dominican Republic\",\"Egypt\",\"France\",\"Georgia\",\"Germany\",\"Greece\",\"Hong Kong\",\"Hungary\",\"Iran\",\"Ireland\",\"Italy\",\"Japan\",\"Jordan\",\"Macau\",\"Malaysia\",\"Mexico\",\"Morocco\",\"Netherlands\",\"Philippines\",\"Poland\",\"Portugal\",\"Puerto Rico\",\"Qatar\",\"Saudi Arabia\",\"South Africa\",\"South Korea\",\"Spain\",\"Sweden\",\"Taiwan\",\"Thailand\",\"Tunisia\",\"United Arab Emirates\",\"United Kingdom\",\"United States\",\"Uruguay\",\"Uzbekistan\",\"Vietnam\"],\"xaxis\":\"x\",\"y\":[9.67,4.05,7.29,7.19,30.91,5.56,5.91,5.45,18.34,3.73,5.63,3.85,8.06,14.91,100.0,4.67,34.8,32.74,17.16,12.93,5.87,6.3,57.25,25.07,5.35,14.23,20.14,42.15,14.52,20.3,5.0,18.99,26.54,5.05,4.05,27.42,8.48,11.03,85.17,7.53,6.49,28.15,9.37,28.15,37.22,66.48,3.84,6.63,12.6],\"yaxis\":\"y\",\"type\":\"bar\"},{\"alignmentgroup\":\"True\",\"hovertemplate\":\"year=2024\\u003cbr\\u003edata_type=prediction\\u003cbr\\u003ecountry=%{x}\\u003cbr\\u003eArrivals (Millions)=%{y}\\u003cextra\\u003e\\u003c\\u002fextra\\u003e\",\"legendgroup\":\"2024\",\"marker\":{\"color\":\"#EF553B\",\"pattern\":{\"shape\":\"\"}},\"name\":\"2024\",\"offsetgroup\":\"2024\",\"orientation\":\"v\",\"showlegend\":true,\"textposition\":\"auto\",\"x\":[\"Albania\",\"Argentina\",\"Australia\",\"Austria\",\"Belgium\",\"Brazil\",\"Bulgaria\",\"Cambodia\",\"Canada\",\"China\",\"Croatia\",\"Czech Republic\",\"Denmark\",\"Egypt\",\"France\",\"Germany\",\"Greece\",\"Hong Kong\",\"Hungary\",\"India\",\"Indonesia\",\"Iran\",\"Ireland\",\"Italy\",\"Japan\",\"Kyrgyzstan\",\"Malaysia\",\"Mexico\",\"Morocco\",\"Netherlands\",\"Philippines\",\"Poland\",\"Portugal\",\"Russia\",\"Saudi Arabia\",\"Singapore\",\"South Africa\",\"South Korea\",\"Spain\",\"Sweden\",\"Switzerland\",\"Taiwan\",\"Thailand\",\"Tunisia\",\"Turkey\",\"United Arab Emirates\",\"United Kingdom\",\"United States\",\"Uzbekistan\",\"Vietnam\"],\"xaxis\":\"x2\",\"y\":[9.6,7.4,9.5,31.9,9.3,5.9,9.3,6.6,22.1,65.7,17.4,14.3,13.3,11.3,89.4,39.6,31.3,23.8,16.9,17.9,15.5,7.3,10.9,64.5,32.3,6.9,26.1,45.0,12.9,20.1,8.3,22.1,24.6,24.4,13.6,15.1,10.2,17.5,83.7,7.4,11.8,11.9,39.8,9.4,51.2,16.7,39.4,79.3,6.7,18.0],\"yaxis\":\"y2\",\"type\":\"bar\"},{\"alignmentgroup\":\"True\",\"hovertemplate\":\"year=2022\\u003cbr\\u003edata_type=actual\\u003cbr\\u003ecountry=%{x}\\u003cbr\\u003eArrivals (Millions)=%{y}\\u003cextra\\u003e\\u003c\\u002fextra\\u003e\",\"legendgroup\":\"2022\",\"marker\":{\"color\":\"#00cc96\",\"pattern\":{\"shape\":\"\"}},\"name\":\"2022\",\"offsetgroup\":\"2022\",\"orientation\":\"v\",\"showlegend\":true,\"textposition\":\"auto\",\"x\":[\"Austria\",\"Canada\",\"Croatia\",\"Egypt\",\"France\",\"Germany\",\"Greece\",\"Hungary\",\"Italy\",\"Mexico\",\"Netherlands\",\"Poland\",\"Portugal\",\"Romania\",\"Saudi Arabia\",\"Spain\",\"Turkey\",\"United Arab Emirates\",\"United Kingdom\",\"United States\"],\"xaxis\":\"x\",\"y\":[26.21,12.82,15.32,11.66,79.4,28.46,27.84,12.65,49.81,38.33,16.07,15.95,22.25,12.7,16.65,71.66,50.45,22.65,30.74,50.87],\"yaxis\":\"y\",\"type\":\"bar\"}],                        {\"template\":{\"data\":{\"histogram2dcontour\":[{\"type\":\"histogram2dcontour\",\"colorbar\":{\"outlinewidth\":0,\"ticks\":\"\"},\"colorscale\":[[0.0,\"#0d0887\"],[0.1111111111111111,\"#46039f\"],[0.2222222222222222,\"#7201a8\"],[0.3333333333333333,\"#9c179e\"],[0.4444444444444444,\"#bd3786\"],[0.5555555555555556,\"#d8576b\"],[0.6666666666666666,\"#ed7953\"],[0.7777777777777778,\"#fb9f3a\"],[0.8888888888888888,\"#fdca26\"],[1.0,\"#f0f921\"]]}],\"choropleth\":[{\"type\":\"choropleth\",\"colorbar\":{\"outlinewidth\":0,\"ticks\":\"\"}}],\"histogram2d\":[{\"type\":\"histogram2d\",\"colorbar\":{\"outlinewidth\":0,\"ticks\":\"\"},\"colorscale\":[[0.0,\"#0d0887\"],[0.1111111111111111,\"#46039f\"],[0.2222222222222222,\"#7201a8\"],[0.3333333333333333,\"#9c179e\"],[0.4444444444444444,\"#bd3786\"],[0.5555555555555556,\"#d8576b\"],[0.6666666666666666,\"#ed7953\"],[0.7777777777777778,\"#fb9f3a\"],[0.8888888888888888,\"#fdca26\"],[1.0,\"#f0f921\"]]}],\"heatmap\":[{\"type\":\"heatmap\",\"colorbar\":{\"outlinewidth\":0,\"ticks\":\"\"},\"colorscale\":[[0.0,\"#0d0887\"],[0.1111111111111111,\"#46039f\"],[0.2222222222222222,\"#7201a8\"],[0.3333333333333333,\"#9c179e\"],[0.4444444444444444,\"#bd3786\"],[0.5555555555555556,\"#d8576b\"],[0.6666666666666666,\"#ed7953\"],[0.7777777777777778,\"#fb9f3a\"],[0.8888888888888888,\"#fdca26\"],[1.0,\"#f0f921\"]]}],\"heatmapgl\":[{\"type\":\"heatmapgl\",\"colorbar\":{\"outlinewidth\":0,\"ticks\":\"\"},\"colorscale\":[[0.0,\"#0d0887\"],[0.1111111111111111,\"#46039f\"],[0.2222222222222222,\"#7201a8\"],[0.3333333333333333,\"#9c179e\"],[0.4444444444444444,\"#bd3786\"],[0.5555555555555556,\"#d8576b\"],[0.6666666666666666,\"#ed7953\"],[0.7777777777777778,\"#fb9f3a\"],[0.8888888888888888,\"#fdca26\"],[1.0,\"#f0f921\"]]}],\"contourcarpet\":[{\"type\":\"contourcarpet\",\"colorbar\":{\"outlinewidth\":0,\"ticks\":\"\"}}],\"contour\":[{\"type\":\"contour\",\"colorbar\":{\"outlinewidth\":0,\"ticks\":\"\"},\"colorscale\":[[0.0,\"#0d0887\"],[0.1111111111111111,\"#46039f\"],[0.2222222222222222,\"#7201a8\"],[0.3333333333333333,\"#9c179e\"],[0.4444444444444444,\"#bd3786\"],[0.5555555555555556,\"#d8576b\"],[0.6666666666666666,\"#ed7953\"],[0.7777777777777778,\"#fb9f3a\"],[0.8888888888888888,\"#fdca26\"],[1.0,\"#f0f921\"]]}],\"surface\":[{\"type\":\"surface\",\"colorbar\":{\"outlinewidth\":0,\"ticks\":\"\"},\"colorscale\":[[0.0,\"#0d0887\"],[0.1111111111111111,\"#46039f\"],[0.2222222222222222,\"#7201a8\"],[0.3333333333333333,\"#9c179e\"],[0.4444444444444444,\"#bd3786\"],[0.5555555555555556,\"#d8576b\"],[0.6666666666666666,\"#ed7953\"],[0.7777777777777778,\"#fb9f3a\"],[0.8888888888888888,\"#fdca26\"],[1.0,\"#f0f921\"]]}],\"mesh3d\":[{\"type\":\"mesh3d\",\"colorbar\":{\"outlinewidth\":0,\"ticks\":\"\"}}],\"scatter\":[{\"fillpattern\":{\"fillmode\":\"overlay\",\"size\":10,\"solidity\":0.2},\"type\":\"scatter\"}],\"parcoords\":[{\"type\":\"parcoords\",\"line\":{\"colorbar\":{\"outlinewidth\":0,\"ticks\":\"\"}}}],\"scatterpolargl\":[{\"type\":\"scatterpolargl\",\"marker\":{\"colorbar\":{\"outlinewidth\":0,\"ticks\":\"\"}}}],\"bar\":[{\"error_x\":{\"color\":\"#2a3f5f\"},\"error_y\":{\"color\":\"#2a3f5f\"},\"marker\":{\"line\":{\"color\":\"#E5ECF6\",\"width\":0.5},\"pattern\":{\"fillmode\":\"overlay\",\"size\":10,\"solidity\":0.2}},\"type\":\"bar\"}],\"scattergeo\":[{\"type\":\"scattergeo\",\"marker\":{\"colorbar\":{\"outlinewidth\":0,\"ticks\":\"\"}}}],\"scatterpolar\":[{\"type\":\"scatterpolar\",\"marker\":{\"colorbar\":{\"outlinewidth\":0,\"ticks\":\"\"}}}],\"histogram\":[{\"marker\":{\"pattern\":{\"fillmode\":\"overlay\",\"size\":10,\"solidity\":0.2}},\"type\":\"histogram\"}],\"scattergl\":[{\"type\":\"scattergl\",\"marker\":{\"colorbar\":{\"outlinewidth\":0,\"ticks\":\"\"}}}],\"scatter3d\":[{\"type\":\"scatter3d\",\"line\":{\"colorbar\":{\"outlinewidth\":0,\"ticks\":\"\"}},\"marker\":{\"colorbar\":{\"outlinewidth\":0,\"ticks\":\"\"}}}],\"scattermapbox\":[{\"type\":\"scattermapbox\",\"marker\":{\"colorbar\":{\"outlinewidth\":0,\"ticks\":\"\"}}}],\"scatterternary\":[{\"type\":\"scatterternary\",\"marker\":{\"colorbar\":{\"outlinewidth\":0,\"ticks\":\"\"}}}],\"scattercarpet\":[{\"type\":\"scattercarpet\",\"marker\":{\"colorbar\":{\"outlinewidth\":0,\"ticks\":\"\"}}}],\"carpet\":[{\"aaxis\":{\"endlinecolor\":\"#2a3f5f\",\"gridcolor\":\"white\",\"linecolor\":\"white\",\"minorgridcolor\":\"white\",\"startlinecolor\":\"#2a3f5f\"},\"baxis\":{\"endlinecolor\":\"#2a3f5f\",\"gridcolor\":\"white\",\"linecolor\":\"white\",\"minorgridcolor\":\"white\",\"startlinecolor\":\"#2a3f5f\"},\"type\":\"carpet\"}],\"table\":[{\"cells\":{\"fill\":{\"color\":\"#EBF0F8\"},\"line\":{\"color\":\"white\"}},\"header\":{\"fill\":{\"color\":\"#C8D4E3\"},\"line\":{\"color\":\"white\"}},\"type\":\"table\"}],\"barpolar\":[{\"marker\":{\"line\":{\"color\":\"#E5ECF6\",\"width\":0.5},\"pattern\":{\"fillmode\":\"overlay\",\"size\":10,\"solidity\":0.2}},\"type\":\"barpolar\"}],\"pie\":[{\"automargin\":true,\"type\":\"pie\"}]},\"layout\":{\"autotypenumbers\":\"strict\",\"colorway\":[\"#636efa\",\"#EF553B\",\"#00cc96\",\"#ab63fa\",\"#FFA15A\",\"#19d3f3\",\"#FF6692\",\"#B6E880\",\"#FF97FF\",\"#FECB52\"],\"font\":{\"color\":\"#2a3f5f\"},\"hovermode\":\"closest\",\"hoverlabel\":{\"align\":\"left\"},\"paper_bgcolor\":\"white\",\"plot_bgcolor\":\"#E5ECF6\",\"polar\":{\"bgcolor\":\"#E5ECF6\",\"angularaxis\":{\"gridcolor\":\"white\",\"linecolor\":\"white\",\"ticks\":\"\"},\"radialaxis\":{\"gridcolor\":\"white\",\"linecolor\":\"white\",\"ticks\":\"\"}},\"ternary\":{\"bgcolor\":\"#E5ECF6\",\"aaxis\":{\"gridcolor\":\"white\",\"linecolor\":\"white\",\"ticks\":\"\"},\"baxis\":{\"gridcolor\":\"white\",\"linecolor\":\"white\",\"ticks\":\"\"},\"caxis\":{\"gridcolor\":\"white\",\"linecolor\":\"white\",\"ticks\":\"\"}},\"coloraxis\":{\"colorbar\":{\"outlinewidth\":0,\"ticks\":\"\"}},\"colorscale\":{\"sequential\":[[0.0,\"#0d0887\"],[0.1111111111111111,\"#46039f\"],[0.2222222222222222,\"#7201a8\"],[0.3333333333333333,\"#9c179e\"],[0.4444444444444444,\"#bd3786\"],[0.5555555555555556,\"#d8576b\"],[0.6666666666666666,\"#ed7953\"],[0.7777777777777778,\"#fb9f3a\"],[0.8888888888888888,\"#fdca26\"],[1.0,\"#f0f921\"]],\"sequentialminus\":[[0.0,\"#0d0887\"],[0.1111111111111111,\"#46039f\"],[0.2222222222222222,\"#7201a8\"],[0.3333333333333333,\"#9c179e\"],[0.4444444444444444,\"#bd3786\"],[0.5555555555555556,\"#d8576b\"],[0.6666666666666666,\"#ed7953\"],[0.7777777777777778,\"#fb9f3a\"],[0.8888888888888888,\"#fdca26\"],[1.0,\"#f0f921\"]],\"diverging\":[[0,\"#8e0152\"],[0.1,\"#c51b7d\"],[0.2,\"#de77ae\"],[0.3,\"#f1b6da\"],[0.4,\"#fde0ef\"],[0.5,\"#f7f7f7\"],[0.6,\"#e6f5d0\"],[0.7,\"#b8e186\"],[0.8,\"#7fbc41\"],[0.9,\"#4d9221\"],[1,\"#276419\"]]},\"xaxis\":{\"gridcolor\":\"white\",\"linecolor\":\"white\",\"ticks\":\"\",\"title\":{\"standoff\":15},\"zerolinecolor\":\"white\",\"automargin\":true,\"zerolinewidth\":2},\"yaxis\":{\"gridcolor\":\"white\",\"linecolor\":\"white\",\"ticks\":\"\",\"title\":{\"standoff\":15},\"zerolinecolor\":\"white\",\"automargin\":true,\"zerolinewidth\":2},\"scene\":{\"xaxis\":{\"backgroundcolor\":\"#E5ECF6\",\"gridcolor\":\"white\",\"linecolor\":\"white\",\"showbackground\":true,\"ticks\":\"\",\"zerolinecolor\":\"white\",\"gridwidth\":2},\"yaxis\":{\"backgroundcolor\":\"#E5ECF6\",\"gridcolor\":\"white\",\"linecolor\":\"white\",\"showbackground\":true,\"ticks\":\"\",\"zerolinecolor\":\"white\",\"gridwidth\":2},\"zaxis\":{\"backgroundcolor\":\"#E5ECF6\",\"gridcolor\":\"white\",\"linecolor\":\"white\",\"showbackground\":true,\"ticks\":\"\",\"zerolinecolor\":\"white\",\"gridwidth\":2}},\"shapedefaults\":{\"line\":{\"color\":\"#2a3f5f\"}},\"annotationdefaults\":{\"arrowcolor\":\"#2a3f5f\",\"arrowhead\":0,\"arrowwidth\":1},\"geo\":{\"bgcolor\":\"white\",\"landcolor\":\"#E5ECF6\",\"subunitcolor\":\"white\",\"showland\":true,\"showlakes\":true,\"lakecolor\":\"white\"},\"title\":{\"x\":0.05},\"mapbox\":{\"style\":\"light\"}}},\"xaxis\":{\"anchor\":\"y\",\"domain\":[0.0,0.49],\"title\":{\"text\":\"country\"},\"tickangle\":45},\"yaxis\":{\"anchor\":\"x\",\"domain\":[0.0,1.0],\"title\":{\"text\":\"Arrivals (Millions)\"}},\"xaxis2\":{\"anchor\":\"y2\",\"domain\":[0.51,1.0],\"matches\":\"x\",\"title\":{\"text\":\"country\"},\"tickangle\":45},\"yaxis2\":{\"anchor\":\"x2\",\"domain\":[0.0,1.0],\"matches\":\"y\",\"showticklabels\":false},\"annotations\":[{\"font\":{},\"showarrow\":false,\"text\":\"data_type=actual\",\"x\":0.245,\"xanchor\":\"center\",\"xref\":\"paper\",\"y\":1.0,\"yanchor\":\"bottom\",\"yref\":\"paper\"},{\"font\":{},\"showarrow\":false,\"text\":\"data_type=prediction\",\"x\":0.755,\"xanchor\":\"center\",\"xref\":\"paper\",\"y\":1.0,\"yanchor\":\"bottom\",\"yref\":\"paper\"}],\"legend\":{\"title\":{\"text\":\"year\"},\"tracegroupgap\":0},\"title\":{\"text\":\"International Tourist Arrivals (Actual vs Predicted)\"},\"barmode\":\"relative\",\"height\":500},                        {\"responsive\": true}                    ).then(function(){\n",
              "                            \n",
              "var gd = document.getElementById('969afcdf-dd52-4cd2-a7f9-b9209bd0f16f');\n",
              "var x = new MutationObserver(function (mutations, observer) {{\n",
              "        var display = window.getComputedStyle(gd).display;\n",
              "        if (!display || display === 'none') {{\n",
              "            console.log([gd, 'removed!']);\n",
              "            Plotly.purge(gd);\n",
              "            observer.disconnect();\n",
              "        }}\n",
              "}});\n",
              "\n",
              "// Listen for the removal of the full notebook cells\n",
              "var notebookContainer = gd.closest('#notebook-container');\n",
              "if (notebookContainer) {{\n",
              "    x.observe(notebookContainer, {childList: true});\n",
              "}}\n",
              "\n",
              "// Listen for the clearing of the current output cell\n",
              "var outputEl = gd.closest('.output');\n",
              "if (outputEl) {{\n",
              "    x.observe(outputEl, {childList: true});\n",
              "}}\n",
              "\n",
              "                        })                };                            </script>        </div>\n",
              "</body>\n",
              "</html>"
            ]
          },
          "metadata": {}
        }
      ]
    },
    {
      "cell_type": "markdown",
      "source": [
        "Использую линейную регрессию из Scikit-learn, чтобы спрогнозировать туристический поток на 2025 год. Для каждой страны строю модель на основе данных за 2022-2023 годы. Например, Саудовская Аравия, по прогнозам, продолжит рост (+78.6%), а США достигнут 97.7 млн туристов."
      ],
      "metadata": {
        "id": "v6Zt-B1eVLfC"
      }
    },
    {
      "cell_type": "code",
      "source": [
        "from sklearn.linear_model import LinearRegression\n",
        "\n",
        "# Подготовка данных для прогноза\n",
        "forecast_data = (\n",
        "    tourism_clean[tourism_clean['data_type'] == 'actual']\n",
        "    .groupby(['country', 'year'])['arrivals']\n",
        "    .mean()\n",
        "    .unstack()\n",
        ")\n",
        "\n",
        "# Простая модель прогнозирования\n",
        "forecast_results = []\n",
        "for country in forecast_data.index:\n",
        "    try:\n",
        "        X = forecast_data.loc[country].index.values.reshape(-1, 1)\n",
        "        y = forecast_data.loc[country].values\n",
        "        model = LinearRegression().fit(X, y)\n",
        "        pred_2025 = model.predict([[2025]])[0]\n",
        "        forecast_results.append({\n",
        "            'country': country,\n",
        "            '2025_forecast': round(pred_2025, 2),\n",
        "            'growth_rate': round((pred_2025 / y[-1] - 1) * 100, 1)\n",
        "        })\n",
        "    except:\n",
        "        continue\n",
        "\n",
        "forecast_df = pd.DataFrame(forecast_results)\n",
        "print(forecast_df.sort_values('growth_rate', ascending=False).head(10))"
      ],
      "metadata": {
        "colab": {
          "base_uri": "https://localhost:8080/"
        },
        "id": "RJPNUd-bQf9I",
        "outputId": "521e1073-1c8c-44ae-db60-bf35716f8d08"
      },
      "execution_count": null,
      "outputs": [
        {
          "output_type": "stream",
          "name": "stdout",
          "text": [
            "                 country  2025_forecast  growth_rate\n",
            "12          Saudi Arabia          48.96         78.6\n",
            "1                 Canada          29.38         60.2\n",
            "16         United States          97.70         47.0\n",
            "2                  Egypt          21.41         43.6\n",
            "9            Netherlands          28.76         41.7\n",
            "3                 France         141.20         41.2\n",
            "14  United Arab Emirates          39.15         39.1\n",
            "4                Germany          47.48         36.4\n",
            "15        United Kingdom          50.18         34.8\n",
            "11              Portugal          35.12         32.3\n"
          ]
        }
      ]
    },
    {
      "cell_type": "markdown",
      "source": [],
      "metadata": {
        "id": "0YxBhAAAXkQL"
      }
    },
    {
      "cell_type": "markdown",
      "source": [
        "# **Промежуточные выводы**\n",
        "1. Лидеры восстановления: Саудовская Аравия, Канада и США демонстрируют рост >40% благодаря открытой политике и инвестициям в туризм.\n",
        "\n",
        "2. Прогнозы на 2024: Китай (65.7 млн) и США (79.3 млн) останутся самыми посещаемыми.\n",
        "\n",
        "3. Методология: Простая линейная регрессия дала неплохие результаты, но для точности можно добавить больше факторов (экономика, сезонность)"
      ],
      "metadata": {
        "id": "E0pXlhjFVM5d"
      }
    },
    {
      "cell_type": "markdown",
      "source": [],
      "metadata": {
        "id": "nIMX-1oCXouN"
      }
    },
    {
      "cell_type": "markdown",
      "source": [
        "# **Введение к SQL-анализу данных о международном туризме**  \n",
        "\n",
        "В этой части проекта я проведу анализ данных о международном туризме с помощью **SQL** — мощного инструмента для работы с базами данных.  \n",
        "\n",
        "### **Цели SQL-анализа:**  \n",
        "1. **Изучить структуру данных** — проверить, какие страны и временные периоды представлены в датасете.  \n",
        "2. **Выявить самые популярные направления** — определить топ-10 стран по количеству туристов в 2023–2024 годах.  \n",
        "3. **Проанализировать динамику восстановления** — сравнить показатели после пандемии (2022–2024) с доковидным уровнем (2019).  \n",
        "4. **Оценить сезонность** — если в данных есть помесячная разбивка, найти периоды максимальной и минимальной туристической активности.  \n",
        "5. **Подготовить данные для визуализации** — сформировать выборки для графиков в Python.  \n",
        "\n",
        "### **Какие запросы я буду использовать?**  \n",
        "- **Базовые** — для знакомства с данными (`SELECT`, `GROUP BY`, `ORDER BY`).  \n",
        "- **Аналитические** — оконные функции (`LAG`, `OVER`), сравнение периодов.  \n",
        "- **Оптимизационные** — поиск аномалий и проверка качества данных.  \n",
        "\n",
        "Этот анализ поможет выявить ключевые тренды в международном туризме и подготовить данные для дальнейшего изучения в Python.  \n"
      ],
      "metadata": {
        "id": "zFA5xAUlWArl"
      }
    },
    {
      "cell_type": "code",
      "source": [
        "import pandas as pd\n",
        "import sqlite3\n",
        "\n",
        "# Загрузите ваш CSV-файл\n",
        "df = pd.read_csv('most-visited-countries-2024.csv')\n",
        "\n",
        "# Приведите названия столбцов к удобному виду\n",
        "df.columns = [col.strip().lower().replace(' ', '_') for col in df.columns]\n",
        "\n",
        "# Переименуйте столбцы, если нужно (пример)\n",
        "df = df.rename(columns={\n",
        "    'mostvisited_numofarrivals_worldbank_2019': 'arrivals_2019',\n",
        "    'mostvisited_numofarrivals_millions_2022': 'arrivals_2022',\n",
        "    'mostvisited_numofarrivals_millions_2023': 'arrivals_2023',\n",
        "    'mostvisited_numofarrivalspredictive_millions_2024': 'arrivals_2024',\n",
        "    'country': 'country'\n",
        "})"
      ],
      "metadata": {
        "id": "1voiyxI4nX-P"
      },
      "execution_count": null,
      "outputs": []
    },
    {
      "cell_type": "markdown",
      "source": [
        "Создаем соединение с базой данных"
      ],
      "metadata": {
        "id": "t-_svp_6pe0X"
      }
    },
    {
      "cell_type": "code",
      "source": [
        "# Создаём соединение с базой данных в памяти\n",
        "conn = sqlite3.connect(':memory:')\n",
        "df.to_sql('most_visited_countries', conn, index=False, if_exists='replace')\n"
      ],
      "metadata": {
        "colab": {
          "base_uri": "https://localhost:8080/"
        },
        "id": "Vcz4ABrJorZA",
        "outputId": "0e4caf1a-7dfc-4404-a63b-dfc4a47519de"
      },
      "execution_count": null,
      "outputs": [
        {
          "output_type": "execute_result",
          "data": {
            "text/plain": [
              "203"
            ]
          },
          "metadata": {},
          "execution_count": 11
        }
      ]
    },
    {
      "cell_type": "markdown",
      "source": [
        "1. Изучить структуру данных"
      ],
      "metadata": {
        "id": "PqFTu-L5pkYw"
      }
    },
    {
      "cell_type": "code",
      "source": [
        "query = '''\n",
        "SELECT * FROM most_visited_countries LIMIT 10\n",
        "'''\n",
        "print(pd.read_sql(query, conn))\n"
      ],
      "metadata": {
        "colab": {
          "base_uri": "https://localhost:8080/"
        },
        "id": "SahPk4mfowNp",
        "outputId": "a222bcef-167b-4ae7-b189-8cc2d3da6a25"
      },
      "execution_count": null,
      "outputs": [
        {
          "output_type": "stream",
          "name": "stdout",
          "text": [
            "         country  arrivals_2024  arrivals_2023  arrivals_2022  \\\n",
            "0          India           17.9            NaN            NaN   \n",
            "1          China           65.7            NaN            NaN   \n",
            "2  United States           79.3          66.48          50.87   \n",
            "3      Indonesia           15.5            NaN            NaN   \n",
            "4       Pakistan            NaN            NaN            NaN   \n",
            "5        Nigeria            NaN            NaN            NaN   \n",
            "6         Brazil            5.9           5.91            NaN   \n",
            "7     Bangladesh            NaN            NaN            NaN   \n",
            "8         Russia           24.4            NaN            NaN   \n",
            "9       Ethiopia            NaN            NaN            NaN   \n",
            "\n",
            "   mostvisited_numofarrivals_worldbank  mostvisited_datayear_worldbank  \n",
            "0                           17914000.0                          2019.0  \n",
            "1                           30402000.0                          2020.0  \n",
            "2                           45037000.0                          2020.0  \n",
            "3                            4053000.0                          2020.0  \n",
            "4                             966000.0                          2012.0  \n",
            "5                            5265000.0                          2016.0  \n",
            "6                            6353000.0                          2019.0  \n",
            "7                             323000.0                          2019.0  \n",
            "8                            6359000.0                          2020.0  \n",
            "9                             518000.0                          2020.0  \n"
          ]
        }
      ]
    },
    {
      "cell_type": "markdown",
      "source": [
        "2. Топ-10 стран по количеству туристов в 2023 и 2024 годах"
      ],
      "metadata": {
        "id": "Ld8V4juPpuyp"
      }
    },
    {
      "cell_type": "code",
      "source": [
        "# 2023 год\n",
        "query = '''\n",
        "SELECT country, arrivals_2023\n",
        "FROM most_visited_countries\n",
        "ORDER BY arrivals_2023 DESC\n",
        "LIMIT 10\n",
        "'''\n",
        "print(pd.read_sql(query, conn))\n",
        "\n",
        "# 2024 год (прогноз)\n",
        "query = '''\n",
        "SELECT country, arrivals_2024\n",
        "FROM most_visited_countries\n",
        "ORDER BY arrivals_2024 DESC\n",
        "LIMIT 10\n",
        "'''\n",
        "print(pd.read_sql(query, conn))\n"
      ],
      "metadata": {
        "colab": {
          "base_uri": "https://localhost:8080/"
        },
        "id": "KweC1_DFoz-a",
        "outputId": "eefc1e5a-0e4d-4c3e-ccd1-9057426f71bd"
      },
      "execution_count": null,
      "outputs": [
        {
          "output_type": "stream",
          "name": "stdout",
          "text": [
            "          country  arrivals_2023\n",
            "0          France         100.00\n",
            "1           Spain          85.17\n",
            "2   United States          66.48\n",
            "3           Italy          57.25\n",
            "4          Mexico          42.15\n",
            "5  United Kingdom          37.22\n",
            "6         Germany          34.80\n",
            "7          Greece          32.74\n",
            "8         Austria          30.91\n",
            "9        Thailand          28.15\n",
            "          country  arrivals_2024\n",
            "0          France           89.4\n",
            "1           Spain           83.7\n",
            "2   United States           79.3\n",
            "3           China           65.7\n",
            "4           Italy           64.5\n",
            "5          Turkey           51.2\n",
            "6          Mexico           45.0\n",
            "7        Thailand           39.8\n",
            "8         Germany           39.6\n",
            "9  United Kingdom           39.4\n"
          ]
        }
      ]
    },
    {
      "cell_type": "markdown",
      "source": [
        "По данным о международном туризме за 2023 и 2024 годы можно сделать следующие выводы:\n",
        "\n",
        "- **Лидеры по числу международных туристов** в 2023 и 2024 годах остаются неизменными: первое место занимает Франция, за ней следуют Испания и США. Это подтверждает устойчивое доминирование этих стран на мировом туристическом рынке.\n",
        "\n",
        "- В **2023 году** топ-10 стран по количеству прибытий выглядел так:  \n",
        "  1. Франция  \n",
        "  2. Испания  \n",
        "  3. США  \n",
        "  4. Италия  \n",
        "  5. Мексика  \n",
        "  6. Великобритания  \n",
        "  7. Германия  \n",
        "  8. Греция  \n",
        "  9. Австрия  \n",
        "  10. Таиланд\n",
        "\n",
        "- В **2024 году** прогнозируется сохранение лидерства Франции и Испании, но в топ-10 появляется Китай и Турция, а Австрия и Греция уступают свои позиции. Это говорит о постепенном восстановлении и росте азиатских направлений после пандемии.\n",
        "\n",
        "- **Динамика** показывает, что большинство ведущих туристических стран продолжают наращивать потоки иностранных туристов, хотя абсолютные значения прибытий в 2024 году для ряда стран ещё не достигли уровня 2023 года (например, у Франции — снижение с 100 млн до 89,4 млн, у Испании — с 85,1 млн до 83,7 млн).\n",
        "\n",
        "- В топ-10 по обоим годам входят преимущественно европейские страны, что отражает устойчивый спрос на Европу как туристическое направление.\n",
        "\n",
        "- **Рост Китая и Турции** в 2024 году свидетельствует о восстановлении международного туризма в этих странах и изменении структуры туристических потоков в мире.\n",
        "\n",
        "- **Вывод:**  \n",
        "  Несмотря на последствия пандемии, крупнейшие туристические направления мира демонстрируют восстановление и сохраняют свои позиции. В 2024 году наблюдается возвращение азиатских стран в топ-10, что указывает на смещение интереса туристов и восстановление международной мобильности."
      ],
      "metadata": {
        "id": "eb0ja1EYqeHY"
      }
    },
    {
      "cell_type": "markdown",
      "source": [
        "3. Анализ динамики восстановления (2022–2024)"
      ],
      "metadata": {
        "id": "GN7x5kAOqBv3"
      }
    },
    {
      "cell_type": "code",
      "source": [
        "query = '''\n",
        "SELECT\n",
        "  country,\n",
        "  arrivals_2022,\n",
        "  arrivals_2023,\n",
        "  arrivals_2024,\n",
        "  ROUND(100.0 * arrivals_2023 / arrivals_2022, 1) AS perc_2023_vs_2022,\n",
        "  ROUND(100.0 * arrivals_2024 / arrivals_2022, 1) AS perc_2024_vs_2022\n",
        "FROM most_visited_countries\n",
        "WHERE arrivals_2022 IS NOT NULL\n",
        "ORDER BY perc_2024_vs_2022 DESC\n",
        "'''\n",
        "print(pd.read_sql(query, conn))\n",
        "\n"
      ],
      "metadata": {
        "colab": {
          "base_uri": "https://localhost:8080/"
        },
        "id": "2GijOSq_o3fd",
        "outputId": "813fc82d-892c-42fb-d993-38f7023e7b65"
      },
      "execution_count": null,
      "outputs": [
        {
          "output_type": "stream",
          "name": "stdout",
          "text": [
            "                 country  arrivals_2022  arrivals_2023  arrivals_2024  \\\n",
            "0                 Canada          12.82          18.34           22.1   \n",
            "1          United States          50.87          66.48           79.3   \n",
            "2                Germany          28.46          34.80           39.6   \n",
            "3                 Poland          15.95          18.99           22.1   \n",
            "4                Hungary          12.65          12.93           16.9   \n",
            "5                  Italy          49.81          57.25           64.5   \n",
            "6         United Kingdom          30.74          37.22           39.4   \n",
            "7            Netherlands          16.07          20.30           20.1   \n",
            "8                Austria          26.21          30.91           31.9   \n",
            "9                 Mexico          38.33          42.15           45.0   \n",
            "10                 Spain          71.66          85.17           83.7   \n",
            "11               Croatia          15.32            NaN           17.4   \n",
            "12                France          79.40         100.00           89.4   \n",
            "13                Greece          27.84          32.74           31.3   \n",
            "14              Portugal          22.25          26.54           24.6   \n",
            "15                Turkey          50.45            NaN           51.2   \n",
            "16                 Egypt          11.66          14.91           11.3   \n",
            "17          Saudi Arabia          16.65          27.42           13.6   \n",
            "18  United Arab Emirates          22.65          28.15           16.7   \n",
            "19               Romania          12.70            NaN            NaN   \n",
            "\n",
            "    perc_2023_vs_2022  perc_2024_vs_2022  \n",
            "0               143.1              172.4  \n",
            "1               130.7              155.9  \n",
            "2               122.3              139.1  \n",
            "3               119.1              138.6  \n",
            "4               102.2              133.6  \n",
            "5               114.9              129.5  \n",
            "6               121.1              128.2  \n",
            "7               126.3              125.1  \n",
            "8               117.9              121.7  \n",
            "9               110.0              117.4  \n",
            "10              118.9              116.8  \n",
            "11                NaN              113.6  \n",
            "12              125.9              112.6  \n",
            "13              117.6              112.4  \n",
            "14              119.3              110.6  \n",
            "15                NaN              101.5  \n",
            "16              127.9               96.9  \n",
            "17              164.7               81.7  \n",
            "18              124.3               73.7  \n",
            "19                NaN                NaN  \n"
          ]
        }
      ]
    },
    {
      "cell_type": "markdown",
      "source": [
        "На основании представленных данных о международном туризме за 2022–2024 годы можно сделать следующие выводы:\n",
        "\n",
        "- **Наибольший турпоток в 2023 году** зафиксирован во Франции (100 млн), Испании (85,17 млн), США (66,48 млн), Италии (57,25 млн) и Турции (51,2 млн). Эти страны остаются мировыми лидерами по количеству иностранных туристов.\n",
        "\n",
        "- **В 2024 году** сохраняется доминирование Франции (89,4 млн), Испании (83,7 млн), США (79,3 млн), Италии (56,3 млн) и Турции (51,2 млн). Несмотря на небольшое снижение показателей у Франции и Испании, эти направления по-прежнему наиболее востребованы.\n",
        "\n",
        "- **Самый высокий темп роста** турпотока по отношению к 2022 году наблюдается в Канаде (рост на 172,4% к 2022 году), США (155,9%), Германии (133,6%) и Польше (132,1%). Это говорит о быстром восстановлении и росте интереса к этим странам среди туристов.\n",
        "\n",
        "- **Страны с умеренным ростом** (около 110–130% к 2022 году): Италия, Великобритания, Нидерланды, Австрия, Мексика, Испания, Греция, Португалия, Египет, Саудовская Аравия, ОАЭ, Румыния.\n",
        "\n",
        "- **Некоторые страны показывают нестабильную динамику**: например, по Хорватии и Турции отсутствуют данные за отдельные годы, что может быть связано с особенностями сбора статистики или временными ограничениями на въезд.\n",
        "\n",
        "- **Восстановление туризма после пандемии продолжается**: большинство стран демонстрируют положительную динамику и значительный рост турпотока в 2023–2024 годах по сравнению с 2022 годом.\n",
        "\n",
        "- **Лидеры по темпам восстановления** — Канада, США, Германия и Польша, что может быть связано с активной политикой по привлечению туристов и снятием ограничений.\n",
        "\n",
        "**Общий вывод:**  \n",
        "Крупнейшие туристические направления мира (Франция, Испания, США, Италия, Турция) сохраняют лидерство, а наибольший прирост турпотока наблюдается в странах Северной Америки и Центральной Европы. Туристическая отрасль продолжает активно восстанавливаться после пандемии, однако темпы роста и абсолютные значения различаются в зависимости от страны.\n"
      ],
      "metadata": {
        "id": "7QRm32Yyq6MM"
      }
    },
    {
      "cell_type": "markdown",
      "source": [
        "4. Проверка пропусков и аномалий"
      ],
      "metadata": {
        "id": "P6sudAP1qJTo"
      }
    },
    {
      "cell_type": "code",
      "source": [
        "query = '''\n",
        "SELECT country, arrivals_2022, arrivals_2023, arrivals_2024\n",
        "FROM most_visited_countries\n",
        "WHERE arrivals_2022 IS NULL\n",
        "   OR arrivals_2023 IS NULL\n",
        "   OR arrivals_2024 IS NULL\n",
        "   OR arrivals_2022 = 0\n",
        "   OR arrivals_2023 = 0\n",
        "   OR arrivals_2024 = 0\n",
        "'''\n",
        "print(pd.read_sql(query, conn))\n"
      ],
      "metadata": {
        "colab": {
          "base_uri": "https://localhost:8080/"
        },
        "id": "rGcZiAzJpWsB",
        "outputId": "60a968f1-ef28-45fc-ab74-a5e425fabf8f"
      },
      "execution_count": null,
      "outputs": [
        {
          "output_type": "stream",
          "name": "stdout",
          "text": [
            "              country  arrivals_2022  arrivals_2023  arrivals_2024\n",
            "0               India            NaN            NaN           17.9\n",
            "1               China            NaN            NaN           65.7\n",
            "2           Indonesia            NaN            NaN           15.5\n",
            "3            Pakistan            NaN            NaN            NaN\n",
            "4             Nigeria            NaN            NaN            NaN\n",
            "..                ...            ...            ...            ...\n",
            "181            Monaco            NaN            NaN            NaN\n",
            "182  Marshall Islands            NaN            NaN            NaN\n",
            "183        San Marino            NaN            NaN            NaN\n",
            "184             Palau            NaN            NaN            NaN\n",
            "185            Tuvalu            NaN            NaN            NaN\n",
            "\n",
            "[186 rows x 4 columns]\n"
          ]
        }
      ]
    }
  ]
}